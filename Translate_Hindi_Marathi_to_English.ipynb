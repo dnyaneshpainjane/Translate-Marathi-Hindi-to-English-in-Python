{
  "cells": [
    {
      "cell_type": "code",
      "execution_count": 213,
      "metadata": {
        "id": "YSGLCBJFd7Nx"
      },
      "outputs": [],
      "source": [
        "letter_dict={'अ':'a','आ':'a','इ':'e','ई':'i','उ':'u','ऊ':'oo','ए':'a','ऐ':'ae','ओ':'o','औ':'ao','अं':'am','अः':'a','ऋ':'ri','ॠ':'rr','ळ':'la',\n",
        "   'क':'k','ख':'kha','ग':'g','घ':'gha','ङ':'nga','च':'ca','छ':'cha','ज':'ja','झ':'jha','ञ':'nya','ट':'ta','ठ':'th','ड':'da',\n",
        "   'ढ':'dh','ण':'n','त':'t','थ':'tha','द':'d','ध':'dha','न':'na','प':'p','फ':'fa','ब':'b','भ':'bha','म':'ma','य':'y','र':'r',\n",
        "   'ल':'la','व':'v','श':'sha','ष':'shha','स':'sa','ह':'ha','क्ष':'ksh','त्र':'tra','ज्ञ':'jna',\n",
        "   'ा':'a','ं':'n','ि':'i','ी':'i','ु':'u','ू':'uu','ृ':'r','ॄ':'rr','ॅ':'e','ॆ':'e','े':'e','ै':'ai','ॉ':'o','ॊ':'o','ो':'o','ौ':'au','्':'a',' ':' ','.':'.',',':','}"
      ]
    },
    {
      "cell_type": "code",
      "execution_count": 214,
      "metadata": {
        "id": "IybHkGe7eCdu"
      },
      "outputs": [],
      "source": [
        "input_name='महात्मा गांधी'"
      ]
    },
    {
      "cell_type": "code",
      "execution_count": 215,
      "metadata": {
        "id": "gJLsbXj3e8Ji"
      },
      "outputs": [],
      "source": [
        "letters_of_name=[]\n",
        "for i in range(len(input_name)):\n",
        "  letters_of_name.append(input_name[i])"
      ]
    },
    {
      "cell_type": "code",
      "execution_count": 216,
      "metadata": {
        "colab": {
          "base_uri": "https://localhost:8080/"
        },
        "id": "uWfpyinH3v9p",
        "outputId": "ff789fb3-ee39-4b9d-d475-dcb200949e46"
      },
      "outputs": [
        {
          "data": {
            "text/plain": [
              "['म', 'ह', 'ा', 'त', '्', 'म', 'ा', ' ', 'ग', 'ा', 'ं', 'ध', 'ी']"
            ]
          },
          "execution_count": 216,
          "metadata": {},
          "output_type": "execute_result"
        }
      ],
      "source": [
        "letters_of_name"
      ]
    },
    {
      "cell_type": "code",
      "execution_count": 217,
      "metadata": {
        "id": "Ro42G84r3tca"
      },
      "outputs": [],
      "source": [
        "word=[]\n",
        "for i in letters_of_name:\n",
        "  word.append(letter_dict[i])"
      ]
    },
    {
      "cell_type": "code",
      "execution_count": 218,
      "metadata": {
        "id": "y-gNlBJpfc7B"
      },
      "outputs": [],
      "source": [
        "s=''\n",
        "translate= s.join(word)"
      ]
    },
    {
      "cell_type": "code",
      "execution_count": 219,
      "metadata": {
        "colab": {
          "base_uri": "https://localhost:8080/",
          "height": 36
        },
        "id": "Io-pDTaxfgRQ",
        "outputId": "30e03f0b-f342-49f2-a508-b26262b5b185"
      },
      "outputs": [
        {
          "data": {
            "application/vnd.google.colaboratory.intrinsic+json": {
              "type": "string"
            },
            "text/plain": [
              "'mahaatamaa gandhai'"
            ]
          },
          "execution_count": 219,
          "metadata": {},
          "output_type": "execute_result"
        }
      ],
      "source": [
        "translate"
      ]
    },
    {
      "cell_type": "code",
      "execution_count": null,
      "metadata": {
        "id": "iZx496RUzloC"
      },
      "outputs": [],
      "source": []
    },
    {
      "cell_type": "code",
      "execution_count": null,
      "metadata": {},
      "outputs": [],
      "source": []
    }
  ],
  "metadata": {
    "colab": {
      "name": "Translate_Hindi/Marathi_to_English.ipynb",
      "provenance": []
    },
    "kernelspec": {
      "display_name": "Python 3",
      "name": "python3"
    },
    "language_info": {
      "name": "python"
    }
  },
  "nbformat": 4,
  "nbformat_minor": 0
}
